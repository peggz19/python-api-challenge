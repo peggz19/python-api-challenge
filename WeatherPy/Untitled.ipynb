{
 "cells": [
  {
   "cell_type": "code",
   "execution_count": 2,
   "id": "e8ccc1da",
   "metadata": {},
   "outputs": [],
   "source": [
    "import json\n",
    "import requests"
   ]
  },
  {
   "cell_type": "code",
   "execution_count": 3,
   "id": "074bff26",
   "metadata": {},
   "outputs": [
    {
     "data": {
      "text/plain": [
       "{'coord': {'lon': -79.4163, 'lat': 43.7001},\n",
       " 'weather': [{'id': 701,\n",
       "   'main': 'Mist',\n",
       "   'description': 'mist',\n",
       "   'icon': '50n'}],\n",
       " 'base': 'stations',\n",
       " 'main': {'temp': 2.3,\n",
       "  'feels_like': -0.81,\n",
       "  'temp_min': 0.82,\n",
       "  'temp_max': 2.95,\n",
       "  'pressure': 1002,\n",
       "  'humidity': 94},\n",
       " 'visibility': 8047,\n",
       " 'wind': {'speed': 3.09, 'deg': 310},\n",
       " 'clouds': {'all': 100},\n",
       " 'dt': 1701646126,\n",
       " 'sys': {'type': 1,\n",
       "  'id': 718,\n",
       "  'country': 'CA',\n",
       "  'sunrise': 1701606809,\n",
       "  'sunset': 1701639701},\n",
       " 'timezone': -18000,\n",
       " 'id': 6167865,\n",
       " 'name': 'Toronto',\n",
       " 'cod': 200}"
      ]
     },
     "execution_count": 3,
     "metadata": {},
     "output_type": "execute_result"
    }
   ],
   "source": [
    "response = requests.get('https://api.openweathermap.org/data/2.5/weather?q=Toronto&appid=ef79fdd4c74fa83174acbb795067eaa5&units=metric')\n",
    "response.json()"
   ]
  },
  {
   "cell_type": "code",
   "execution_count": null,
   "id": "e9e14273",
   "metadata": {},
   "outputs": [],
   "source": []
  }
 ],
 "metadata": {
  "kernelspec": {
   "display_name": "Python 3 (ipykernel)",
   "language": "python",
   "name": "python3"
  },
  "language_info": {
   "codemirror_mode": {
    "name": "ipython",
    "version": 3
   },
   "file_extension": ".py",
   "mimetype": "text/x-python",
   "name": "python",
   "nbconvert_exporter": "python",
   "pygments_lexer": "ipython3",
   "version": "3.11.5"
  }
 },
 "nbformat": 4,
 "nbformat_minor": 5
}
